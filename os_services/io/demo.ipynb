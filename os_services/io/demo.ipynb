{
 "cells": [
  {
   "cell_type": "code",
   "execution_count": 4,
   "metadata": {},
   "outputs": [
    {
     "name": "stdout",
     "output_type": "stream",
     "text": [
      "b'Hello World' <class 'bytes'>\n"
     ]
    }
   ],
   "source": [
    "a = b\"Hello World\"    # a sequence of bytes - bytes stream / string\n",
    "\n",
    "print(a, type(a))"
   ]
  },
  {
   "cell_type": "code",
   "execution_count": 8,
   "metadata": {},
   "outputs": [
    {
     "name": "stdout",
     "output_type": "stream",
     "text": [
      "b'hello world'\n",
      "b'hello world'\n",
      "b'hello world'\n"
     ]
    }
   ],
   "source": [
    "print(\"hello world\".encode())\n",
    "print(\"hello world\".encode(\"utf-8\"))\n",
    "print(\"hello world\".encode(\"ascii\"))"
   ]
  },
  {
   "cell_type": "code",
   "execution_count": 37,
   "metadata": {},
   "outputs": [
    {
     "name": "stdout",
     "output_type": "stream",
     "text": [
      "<class 'bytes'>\n"
     ]
    }
   ],
   "source": [
    "file_path = \"E:\\Docs\\explore_python\\io\\LBT_TH066.pdf\"\n",
    "\n",
    "with open(file_path, \"rb\") as f:    # BufferedReader object\n",
    "    data = f.read()        \n",
    "\n",
    "    print(type(data))               # return bytes object"
   ]
  },
  {
   "cell_type": "code",
   "execution_count": 15,
   "metadata": {},
   "outputs": [
    {
     "name": "stdout",
     "output_type": "stream",
     "text": [
      "b'Hello WorldHello WorldHello World'\n",
      "<class '_io.BytesIO'>\n",
      "--------------------------------------------------\n",
      "b'Hello WorldHello WorldHello World'\n",
      "<class '_io.BytesIO'>\n"
     ]
    }
   ],
   "source": [
    "from io import BytesIO\n",
    "\n",
    "# Automatically close file\n",
    "with BytesIO() as f:            # write to an in-memory buffer\n",
    "    f.write(b\"Hello World\")     # can write only bytes\n",
    "    f.write(b\"Hello World\")\n",
    "    f.write(b\"Hello World\")\n",
    "\n",
    "    print(f.getvalue())         # return bytes stream\n",
    "    print(type(f))              # BytesIO object\n",
    "    print(\"-\" * 50)\n",
    "\n",
    "# Manual write and close file\n",
    "f = BytesIO()\n",
    "f.write(b\"Hello World\")\n",
    "f.write(b\"Hello World\")\n",
    "f.write(b\"Hello World\")\n",
    "\n",
    "print(f.getvalue())\n",
    "print(type(f))\n",
    "f.close()"
   ]
  },
  {
   "cell_type": "code",
   "execution_count": 21,
   "metadata": {},
   "outputs": [
    {
     "name": "stdout",
     "output_type": "stream",
     "text": [
      "Pure buffer time: 4.2386s\n",
      "BytesIO time: 0.013824s\n",
      "--------------------------------------------------\n"
     ]
    }
   ],
   "source": [
    "# So sánh hiệu năng khi sử dụng raw bytes và BytesIO \n",
    "from time import time\n",
    "\n",
    "start = time()\n",
    "buffer = b\"\"\n",
    "for _ in range(100_000):\n",
    "    buffer += b\"Hello World\"\n",
    "end = time()\n",
    "print(f\"Pure buffer time: {end - start:.5}s\")\n",
    "\n",
    "start = time()\n",
    "f = BytesIO()\n",
    "for _ in range(100_000):\n",
    "    f.write(b\"Hello World\")    # write bytes to in-memory buffer (file)\n",
    "end = time()\n",
    "print(f\"BytesIO time: {end - start:.5}s\")\n",
    "print(\"-\" * 50)"
   ]
  },
  {
   "cell_type": "code",
   "execution_count": 23,
   "metadata": {},
   "outputs": [
    {
     "name": "stdout",
     "output_type": "stream",
     "text": [
      "Hello World\n",
      "This is a test"
     ]
    }
   ],
   "source": [
    "from io import StringIO\n",
    "\n",
    "with StringIO() as f:\n",
    "    f.write(\"Hello World\\n\")\n",
    "    print(\"This is a test\", end=\"\", file=f)      # print the string to file\n",
    "    print(f.getvalue(), end=\"\")"
   ]
  },
  {
   "cell_type": "markdown",
   "metadata": {},
   "source": [
    "## Use cases"
   ]
  },
  {
   "cell_type": "code",
   "execution_count": 34,
   "metadata": {},
   "outputs": [],
   "source": [
    "# Dơnload image from internet -> manipulate\n",
    "\n",
    "import requests\n",
    "from PIL import Image\n",
    "from io import BytesIO\n",
    "\n",
    "import cv2\n",
    "import numpy as np\n",
    "\n",
    "\n",
    "use_cv2 = False\n",
    "\n",
    "url = \"https://nguoinoitieng.tv/images/nnt/105/0/biks.jpg\"\n",
    "response = requests.get(url)        # return bytes object\n",
    "\n",
    "img = BytesIO(response.content)     # convert bytes to file-like object (in-memory binary stream)\n",
    "img = Image.open(img)               # return JpegImageFile object\n",
    "\n",
    "if use_cv2:\n",
    "    img = np.array(img)                 # image is in RGB mode\n",
    "    img = cv2.cvtColor(img, cv2.COLOR_RGB2GRAY)\n",
    "    cv2.imwrite(\"biks.jpg\", img)        # save image to disk\n",
    "else:\n",
    "    img = img.convert(\"L\")          # convert image to grayscale\n",
    "    img_bf = BytesIO()              # create an in-memory buffer\n",
    "    img.save(img_bf, format=\"JPEG\")   # save the image as jpeg to a file-like object\n",
    "\n",
    "    # Retrieve the binary content from the BytesIO object\n",
    "    bytes_data = img_bf.getvalue()\n",
    "\n",
    "    # Save the image to disk if needed\n",
    "    with open(\"biks.jpg\", \"wb\") as f:\n",
    "        f.write(bytes_data)"
   ]
  },
  {
   "cell_type": "code",
   "execution_count": 35,
   "metadata": {},
   "outputs": [],
   "source": [
    "# Create a zip file that contains multiple files dynamically -> \n",
    "# send it over a network without writing it to disk\n",
    "\n",
    "from io import BytesIO\n",
    "from zipfile import ZipFile, ZIP_DEFLATED\n",
    "\n",
    "\n",
    "zf_buffer = BytesIO()\n",
    "\n",
    "# Create a ZIP file in memory \n",
    "with ZipFile(file=zf_buffer, mode=\"w\", compression=ZIP_DEFLATED) as zf:\n",
    "\n",
    "    # Add files to the ZIP archive from memory \n",
    "    zf.writestr(\"file1.txt\", \"This is the content of the first file.\")\n",
    "    zf.writestr(\"file2.txt\", \"This is the content of the second file.\")\n",
    "    zf.writestr(\"file3.txt\", \"This is the content of the third file.\")\n",
    "\n",
    "# Get the bytes of the ZIP file\n",
    "zf_buffer.seek(0)                   # move the pointer back to the beginning of the BytesIO object\n",
    "zip_data = zf_buffer.getvalue()     # get the binary data of the in-memory ZIP file\n",
    "\n",
    "# Now, zip_data contain the binary content of the ZIP file. You can serve it over a network or save it to disk.\n",
    "with open(\"zip_file.zip\", \"wb\") as zf:\n",
    "    zf.write(zip_data)"
   ]
  },
  {
   "cell_type": "code",
   "execution_count": null,
   "metadata": {},
   "outputs": [],
   "source": []
  }
 ],
 "metadata": {
  "kernelspec": {
   "display_name": "venv_py",
   "language": "python",
   "name": "python3"
  },
  "language_info": {
   "codemirror_mode": {
    "name": "ipython",
    "version": 3
   },
   "file_extension": ".py",
   "mimetype": "text/x-python",
   "name": "python",
   "nbconvert_exporter": "python",
   "pygments_lexer": "ipython3",
   "version": "3.11.2"
  }
 },
 "nbformat": 4,
 "nbformat_minor": 2
}
