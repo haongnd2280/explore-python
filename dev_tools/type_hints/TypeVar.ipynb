{
 "cells": [
  {
   "cell_type": "markdown",
   "metadata": {},
   "source": [
    "# TypeVar"
   ]
  },
  {
   "cell_type": "markdown",
   "metadata": {},
   "source": [
    "- TypeVar: type variable, tức một biến kiểu, thường được ký hiệu là T. Nó có thể được gán một kiểu bất kỳ, ví dụ int, float, str, list.\n",
    "- Type variable được dùng để giải quyết được trường hợp kiểu trả về giống với kiểu tham số đầu vào, ví dụ: nếu kiểu tham số đầu vào là int thì kiểu trả về là int, nếu kiểu tham số đầu vào là str thì kiểu trả về là str,... "
   ]
  },
  {
   "cell_type": "code",
   "execution_count": 1,
   "metadata": {},
   "outputs": [
    {
     "name": "stdout",
     "output_type": "stream",
     "text": [
      "Python 3.11.2\n"
     ]
    }
   ],
   "source": [
    "!python -V"
   ]
  },
  {
   "cell_type": "code",
   "execution_count": 2,
   "metadata": {},
   "outputs": [],
   "source": [
    "from collections.abc import Sequence\n",
    "from random import shuffle\n",
    "from typing import TypeVar\n",
    "\n",
    "\n",
    "T = TypeVar(\"T\")    # type variable's constructor \n",
    "\n",
    "def sample(population: Sequence[T], size: int) -> list[T]:\n",
    "    \"\"\"Sample and return a list of elements of the same type T from a given population.\n",
    "    \"\"\"\n",
    "\n",
    "    if size < 1:\n",
    "        raise ValueError(\"Size must be greater than 0\")\n",
    "    \n",
    "    result = list(population)\n",
    "    shuffle(result)   # shuffle elements in place\n",
    "    \n",
    "    return result[:size]\n"
   ]
  },
  {
   "cell_type": "code",
   "execution_count": 4,
   "metadata": {},
   "outputs": [
    {
     "name": "stdout",
     "output_type": "stream",
     "text": [
      "[5, 2, 1]\n",
      "['H', 'r', 'l']\n",
      "[5, 0, 8]\n"
     ]
    }
   ],
   "source": [
    "print(sample([1, 2, 3, 4, 5], 3))    # T is int \n",
    "print(sample(\"Hello world\", 3))      # T is str\n",
    "print(sample(range(10), 3))          #"
   ]
  },
  {
   "cell_type": "markdown",
   "metadata": {},
   "source": [
    "# Restricted TypeVar"
   ]
  },
  {
   "cell_type": "code",
   "execution_count": 5,
   "metadata": {},
   "outputs": [
    {
     "data": {
      "text/plain": [
       "3"
      ]
     },
     "execution_count": 5,
     "metadata": {},
     "output_type": "execute_result"
    }
   ],
   "source": [
    "from statistics import mode\n",
    "\n",
    "mode([1, 1, 2, 2, 3, 3, 3, 3, 4])    # trả về giá trị có tần suất xuất hiện nhiều nhất"
   ]
  },
  {
   "cell_type": "code",
   "execution_count": 12,
   "metadata": {},
   "outputs": [],
   "source": [
    "# Nếu không định nghĩa TypeVar thì hàm mode có thể được định nghĩa như sau\n",
    "from collections import Counter\n",
    "from collections.abc import Iterable\n",
    "\n",
    "\n",
    "def mode(data: Iterable[float]) -> float:\n",
    "    pairs = Counter(data).most_common(1)    # return a list with elements having tuple of form (value, frequency)\n",
    "    if len(pairs) == 0:\n",
    "        raise ValueError(\"no mode for empty data\")\n",
    "    \n",
    "    return pairs[0][0]"
   ]
  },
  {
   "cell_type": "code",
   "execution_count": 13,
   "metadata": {},
   "outputs": [],
   "source": [
    "# mode thường được dùng cho các giá trị int hoặc float, tuy nhiên Python còn có các giá trị số khác, và ta mong muốn rằng \n",
    "# kiểu trả về giống với kiểu phần tử của Iterable đầu vào.\n",
    "# => Sử dụng TypeVar, ta có thể thể cải thiện hàm trên để thể hiện điều này, nhưng hàm mới này lại sai:\n",
    "from collections.abc import Iterable\n",
    "from typing import TypeVar\n",
    "\n",
    "T = TypeVar(\"T\")\n",
    "\n",
    "def mode(data: Iterable[T]) -> T:\n",
    "    pass"
   ]
  },
  {
   "cell_type": "code",
   "execution_count": null,
   "metadata": {},
   "outputs": [],
   "source": []
  }
 ],
 "metadata": {
  "kernelspec": {
   "display_name": "venv_py",
   "language": "python",
   "name": "python3"
  },
  "language_info": {
   "codemirror_mode": {
    "name": "ipython",
    "version": 3
   },
   "file_extension": ".py",
   "mimetype": "text/x-python",
   "name": "python",
   "nbconvert_exporter": "python",
   "pygments_lexer": "ipython3",
   "version": "3.11.2"
  }
 },
 "nbformat": 4,
 "nbformat_minor": 2
}
