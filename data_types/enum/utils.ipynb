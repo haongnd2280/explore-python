{
 "cells": [
  {
   "cell_type": "code",
   "execution_count": 16,
   "metadata": {},
   "outputs": [],
   "source": [
    "from enum import Enum, unique, auto"
   ]
  },
  {
   "cell_type": "code",
   "execution_count": 21,
   "metadata": {},
   "outputs": [
    {
     "name": "stdout",
     "output_type": "stream",
     "text": [
      "A: 1\n",
      "B: (2, -2)\n",
      "C: (3, -3)\n"
     ]
    }
   ],
   "source": [
    "# auto()\n",
    "# _generate_next_value_ can be overridden to customize the values used by auto()\n",
    "class Foo(Enum):\n",
    "    A = auto()\n",
    "    B = auto(), -2\n",
    "    C = auto(), -3\n",
    "\n",
    "for member in Foo:\n",
    "    print(member.name, member.value, sep=\": \")"
   ]
  },
  {
   "cell_type": "code",
   "execution_count": 15,
   "metadata": {},
   "outputs": [],
   "source": [
    "# @unique\n",
    "class Mistake(Enum):\n",
    "    ONE = 1\n",
    "    TWO = 2\n",
    "    THREE = 3\n",
    "    FOUR = 3     # ValueError: duplicate values found "
   ]
  },
  {
   "cell_type": "code",
   "execution_count": 13,
   "metadata": {},
   "outputs": [
    {
     "name": "stdout",
     "output_type": "stream",
     "text": [
      "ONE: 1\n",
      "TWO: 2\n",
      "THREE: 3\n",
      "('ONE', <Mistake.ONE: 1>)\n",
      "('TWO', <Mistake.TWO: 2>)\n",
      "('THREE', <Mistake.THREE: 3>)\n",
      "('FOUR', <Mistake.THREE: 3>)\n"
     ]
    }
   ],
   "source": [
    "for member in Mistake:\n",
    "    print(member.name, member.value, sep=\": \")   # FOUR is not founded because it is an alias\n",
    "\n",
    "for member in Mistake.__members__.items():       # FOUR is an alias of THREE\n",
    "    print(member)"
   ]
  },
  {
   "cell_type": "code",
   "execution_count": null,
   "metadata": {},
   "outputs": [],
   "source": []
  }
 ],
 "metadata": {
  "kernelspec": {
   "display_name": "venv_12",
   "language": "python",
   "name": "python3"
  },
  "language_info": {
   "codemirror_mode": {
    "name": "ipython",
    "version": 3
   },
   "file_extension": ".py",
   "mimetype": "text/x-python",
   "name": "python",
   "nbconvert_exporter": "python",
   "pygments_lexer": "ipython3",
   "version": "3.12.7"
  },
  "orig_nbformat": 4
 },
 "nbformat": 4,
 "nbformat_minor": 2
}
