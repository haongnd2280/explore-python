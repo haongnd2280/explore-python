{
 "cells": [
  {
   "cell_type": "code",
   "execution_count": 1,
   "metadata": {},
   "outputs": [
    {
     "name": "stdout",
     "output_type": "stream",
     "text": [
      "Color.BLUE\n",
      "BLUE\n",
      "3\n"
     ]
    }
   ],
   "source": [
    "from enum import Enum\n",
    "\n",
    "\n",
    "# class syntax (Note: Enum are not normal Python class)\n",
    "class Color(Enum):\n",
    "    RED = 1          # define members and their values\n",
    "    GREEN = 2\n",
    "    BLUE = 3\n",
    "\n",
    "# functionial syntax\n",
    "Color = Enum(\"Color\", [(\"RED\", 1), (\"GREEN\", 2), (\"BLUE\", 3)])\n",
    "\n",
    "print(Color.BLUE)\n",
    "print(Color.BLUE.name)\n",
    "print(Color.BLUE.value)"
   ]
  },
  {
   "cell_type": "code",
   "execution_count": 2,
   "metadata": {},
   "outputs": [
    {
     "name": "stdout",
     "output_type": "stream",
     "text": [
      "RED: 1\n",
      "GREEN: 2\n",
      "BLUE: 3\n"
     ]
    }
   ],
   "source": [
    "# Iterate over members of enum\n",
    "for color in Color:\n",
    "    print(color.name, color.value, sep=\": \")"
   ]
  },
  {
   "cell_type": "code",
   "execution_count": 3,
   "metadata": {},
   "outputs": [
    {
     "name": "stdout",
     "output_type": "stream",
     "text": [
      "Color.RED - Color.GREEN - Color.BLUE\n",
      "Color.BLUE - Color.RED - Color.GREEN\n"
     ]
    }
   ],
   "source": [
    "# Use call syntax to return members by value\n",
    "print(Color(1), Color(2), Color(3), sep=\" - \")\n",
    "    \n",
    "# Use index syntax to return members by name\n",
    "print(Color[\"BLUE\"], Color[\"RED\"], Color[\"GREEN\"], sep=\" - \")    # This is helpful when we want to access the members' values"
   ]
  },
  {
   "cell_type": "code",
   "execution_count": 6,
   "metadata": {},
   "outputs": [
    {
     "name": "stdout",
     "output_type": "stream",
     "text": [
      "True\n"
     ]
    }
   ],
   "source": [
    "# Check membership \n",
    "member = Color.RED\n",
    "\n",
    "print(member in Color)\n",
    "# print(Color.RED.value in Color)   # >= Python3.12"
   ]
  },
  {
   "cell_type": "code",
   "execution_count": null,
   "metadata": {},
   "outputs": [],
   "source": []
  }
 ],
 "metadata": {
  "kernelspec": {
   "display_name": "venv_py",
   "language": "python",
   "name": "python3"
  },
  "language_info": {
   "codemirror_mode": {
    "name": "ipython",
    "version": 3
   },
   "file_extension": ".py",
   "mimetype": "text/x-python",
   "name": "python",
   "nbconvert_exporter": "python",
   "pygments_lexer": "ipython3",
   "version": "3.11.2"
  },
  "orig_nbformat": 4
 },
 "nbformat": 4,
 "nbformat_minor": 2
}
