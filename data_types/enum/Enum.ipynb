{
 "cells": [
  {
   "cell_type": "code",
   "execution_count": 2,
   "metadata": {},
   "outputs": [],
   "source": [
    "from enum import Enum"
   ]
  },
  {
   "cell_type": "code",
   "execution_count": 3,
   "metadata": {},
   "outputs": [
    {
     "name": "stdout",
     "output_type": "stream",
     "text": [
      "RED: 1\n",
      "GREEN: 2\n",
      "BLUE: 3\n"
     ]
    }
   ],
   "source": [
    "class Color(Enum):\n",
    "    RED = 1\n",
    "    GREEN = 2\n",
    "    BLUE = 3\n",
    "\n",
    "for member in Color:\n",
    "    print(member.name, member.value, sep=\": \")"
   ]
  },
  {
   "cell_type": "code",
   "execution_count": 4,
   "metadata": {},
   "outputs": [
    {
     "data": {
      "text/plain": [
       "['__class__',\n",
       " '__doc__',\n",
       " '__eq__',\n",
       " '__hash__',\n",
       " '__module__',\n",
       " 'name',\n",
       " 'today',\n",
       " 'value']"
      ]
     },
     "execution_count": 4,
     "metadata": {},
     "output_type": "execute_result"
    }
   ],
   "source": [
    "from datetime import date\n",
    "\n",
    "class Weekday(Enum):\n",
    "    MONDAY = 1\n",
    "    TUESDAY = 2\n",
    "    WEDNESDAY = 3\n",
    "    THURSDAY = 4\n",
    "    FRIDAY = 5\n",
    "    SATURDAY = 6\n",
    "    SUNDAY = 7\n",
    "\n",
    "    @classmethod\n",
    "    def today(cls):\n",
    "        print(f\"Today is {cls(date.today().isoweekday()).name}\")    # use call syntax to return member by value\n",
    "\n",
    "dir(Weekday.SATURDAY)"
   ]
  },
  {
   "cell_type": "code",
   "execution_count": 5,
   "metadata": {},
   "outputs": [
    {
     "name": "stdout",
     "output_type": "stream",
     "text": [
      "4\n",
      "Today is THURSDAY\n",
      "None\n"
     ]
    }
   ],
   "source": [
    "print(date.today().isoweekday())   # day 4th of the week (THURSDAY)\n",
    "print(Weekday.today())"
   ]
  },
  {
   "cell_type": "code",
   "execution_count": 6,
   "metadata": {},
   "outputs": [
    {
     "name": "stdout",
     "output_type": "stream",
     "text": [
      "9\n",
      "3\n"
     ]
    }
   ],
   "source": [
    "# Generate next value (staticmethod)\n",
    "from enum import auto\n",
    "from typing import Any \n",
    "\n",
    "class PowersOfThree(Enum):\n",
    "    \n",
    "    @staticmethod\n",
    "    def _generate_next_value_(\n",
    "        name: str,       # the name of the member being defined (called)\n",
    "        start: int,      # the start value for the Enum; default is 1 \n",
    "        count: int,      # the number of members currently defined, not including this one\n",
    "        last_values: list[Any]    # a list of the previous values\n",
    "    ) -> Any:\n",
    "        \"\"\"Determine the next value returned by auto.\n",
    "        \"\"\"\n",
    "        return 3 ** (count + 1)\n",
    "    \n",
    "    FIRST = auto()\n",
    "    SECOND = auto()\n",
    "\n",
    "print(PowersOfThree.SECOND.value)\n",
    "print(PowersOfThree.FIRST.value)"
   ]
  },
  {
   "cell_type": "code",
   "execution_count": 7,
   "metadata": {},
   "outputs": [
    {
     "name": "stdout",
     "output_type": "stream",
     "text": [
      "A--[]\n",
      "B-B-['A--[]']\n",
      "C-CC-['A--[]', \"B-B-['A--[]']\"]\n"
     ]
    }
   ],
   "source": [
    "class Foo(Enum):\n",
    "    \"\"\"Trivical class used to experiment the _generate_next_value_.\n",
    "    \"\"\"\n",
    "\n",
    "    @staticmethod\n",
    "    def _generate_next_value_(\n",
    "        name: str,     \n",
    "        start: int,    \n",
    "        count: int,\n",
    "        last_values: list[Any],\n",
    "    ) -> Any:\n",
    "        return f\"{name * start}-{name * count}-{last_values}\"\n",
    "    \n",
    "    A = auto()\n",
    "    B = auto()\n",
    "    C = auto()\n",
    "\n",
    "print(Foo.A.value)\n",
    "print(Foo.B.value)\n",
    "print(Foo.C.value)"
   ]
  },
  {
   "cell_type": "code",
   "execution_count": 8,
   "metadata": {},
   "outputs": [
    {
     "name": "stdout",
     "output_type": "stream",
     "text": [
      "MONDAY: 1\n",
      "TUESDAY: 2\n",
      "WEDNESDAY: 3\n",
      "THURSDAY: 4\n",
      "FRIDAY: 5\n",
      "SATURDAY: 6\n",
      "SUNDAY: 7\n"
     ]
    }
   ],
   "source": [
    "# __init__: does nothing, does not override old values\n",
    "\n",
    "Weekday.__init__(*list(range(11, 18)))\n",
    "for day in Weekday:\n",
    "    print(day.name, day.value, sep=\": \")"
   ]
  },
  {
   "cell_type": "code",
   "execution_count": 32,
   "metadata": {},
   "outputs": [
    {
     "name": "stdout",
     "output_type": "stream",
     "text": [
      "debug\n",
      "debug\n",
      "Run into _missing_ method.\n",
      "debug\n"
     ]
    }
   ],
   "source": [
    "# _missing_: a classmethod for looking up values not found in cls. \n",
    "# Default: does nothing. But can be overridden to implement custom search behavior.\n",
    "\n",
    "from enum import StrEnum \n",
    "\n",
    "class Build(StrEnum):\n",
    "    DEBUG = auto()\n",
    "    OPTIMIZED = auto()\n",
    "\n",
    "    @classmethod\n",
    "    def _missing_(cls, value: str):   \n",
    "        \"\"\"This method is invoked when a value not found after perform normal lookup.\n",
    "        \"\"\"\n",
    "        print(\"Run into _missing_ method.\")\n",
    "        value = value.lower()\n",
    "        for member in cls:\n",
    "            if member.value == value:\n",
    "                return member\n",
    "            \n",
    "        return None    # cannot return value other than None \n",
    "\n",
    "print(Build.DEBUG.value)\n",
    "print(Build(\"debug\"))   # search member by value: does not run into _missing_ method (__call__ method)\n",
    "print(Build(\"deBUG\"))   # search member by value: run into _missing_ method\n",
    "# print(Build(\"NotExist\"))    # error instead of None "
   ]
  },
  {
   "cell_type": "code",
   "execution_count": 33,
   "metadata": {},
   "outputs": [
    {
     "data": {
      "text/plain": [
       "<Build.DEBUG: 'debug'>"
      ]
     },
     "execution_count": 33,
     "metadata": {},
     "output_type": "execute_result"
    }
   ],
   "source": [
    "Build.__call__(\"debug\")"
   ]
  },
  {
   "cell_type": "code",
   "execution_count": 37,
   "metadata": {},
   "outputs": [
    {
     "name": "stdout",
     "output_type": "stream",
     "text": [
      "    def __call__(cls, value, names=_not_given, *values, module=None, qualname=None, type=None, start=1, boundary=None):\n",
      "        \"\"\"\n",
      "        Either returns an existing member, or creates a new enum class.\n",
      "\n",
      "        This method is used both when an enum class is given a value to match\n",
      "        to an enumeration member (i.e. Color(3)) and for the functional API\n",
      "        (i.e. Color = Enum('Color', names='RED GREEN BLUE')).\n",
      "\n",
      "        The value lookup branch is chosen if the enum is final.\n",
      "\n",
      "        When used for the functional API:\n",
      "\n",
      "        `value` will be the name of the new class.\n",
      "\n",
      "        `names` should be either a string of white-space/comma delimited names\n",
      "        (values will start at `start`), or an iterator/mapping of name, value pairs.\n",
      "\n",
      "        `module` should be set to the module this class is being created in;\n",
      "        if it is not set, an attempt to find that module will be made, but if\n",
      "        it fails the class will not be picklable.\n",
      "\n",
      "        `qualname` should be set to the actual location this class can be found\n",
      "        at in its module; by default it is set to the global scope.  If this is\n",
      "        not correct, unpickling will fail in some circumstances.\n",
      "\n",
      "        `type`, if set, will be mixed in as the first base class.\n",
      "        \"\"\"\n",
      "        if cls._member_map_:\n",
      "            # simple value lookup if members exist\n",
      "            if names is not _not_given:\n",
      "                value = (value, names) + values\n",
      "            return cls.__new__(cls, value)\n",
      "        # otherwise, functional API: we're creating a new Enum type\n",
      "        if names is _not_given and type is None:\n",
      "            # no body? no data-type? possibly wrong usage\n",
      "            raise TypeError(\n",
      "                    f\"{cls} has no members; specify `names=()` if you meant to create a new, empty, enum\"\n",
      "                    )\n",
      "        return cls._create_(\n",
      "                class_name=value,\n",
      "                names=None if names is _not_given else names,\n",
      "                module=module,\n",
      "                qualname=qualname,\n",
      "                type=type,\n",
      "                start=start,\n",
      "                boundary=boundary,\n",
      "                )\n",
      "\n",
      "    def __new__(cls, value):\n",
      "        # all enum instances are actually created during class construction\n",
      "        # without calling this method; this method is called by the metaclass'\n",
      "        # __call__ (i.e. Color(3) ), and by pickle\n",
      "        if type(value) is cls:\n",
      "            # For lookups like Color(Color.RED)\n",
      "            return value\n",
      "        # by-value search for a matching enum member\n",
      "        # see if it's in the reverse mapping (for hashable values)\n",
      "        try:\n",
      "            return cls._value2member_map_[value]\n",
      "        except KeyError:\n",
      "            # Not found, no need to do long O(n) search\n",
      "            pass\n",
      "        except TypeError:\n",
      "            # not there, now do long search -- O(n) behavior\n",
      "            for member in cls._member_map_.values():\n",
      "                if member._value_ == value:\n",
      "                    return member\n",
      "        # still not found -- verify that members exist, in-case somebody got here mistakenly\n",
      "        # (such as via super when trying to override __new__)\n",
      "        if not cls._member_map_:\n",
      "            raise TypeError(\"%r has no members defined\" % cls)\n",
      "        #\n",
      "        # still not found -- try _missing_ hook\n",
      "        try:\n",
      "            exc = None\n",
      "            result = cls._missing_(value)\n",
      "        except Exception as e:\n",
      "            exc = e\n",
      "            result = None\n",
      "        try:\n",
      "            if isinstance(result, cls):\n",
      "                return result\n",
      "            elif (\n",
      "                    Flag is not None and issubclass(cls, Flag)\n",
      "                    and cls._boundary_ is EJECT and isinstance(result, int)\n",
      "                ):\n",
      "                return result\n",
      "            else:\n",
      "                ve_exc = ValueError(\"%r is not a valid %s\" % (value, cls.__qualname__))\n",
      "                if result is None and exc is None:\n",
      "                    raise ve_exc\n",
      "                elif exc is None:\n",
      "                    exc = TypeError(\n",
      "                            'error in %s._missing_: returned %r instead of None or a valid member'\n",
      "                            % (cls.__name__, result)\n",
      "                            )\n",
      "                if not isinstance(exc, ValueError):\n",
      "                    exc.__context__ = ve_exc\n",
      "                raise exc\n",
      "        finally:\n",
      "            # ensure all variables that could hold an exception are destroyed\n",
      "            exc = None\n",
      "            ve_exc = None\n",
      "\n"
     ]
    }
   ],
   "source": [
    "from inspect import getsource\n",
    "\n",
    "print(getsource(Enum.__call__)) \n",
    "print(getsource(Enum.__new__))"
   ]
  },
  {
   "cell_type": "code",
   "execution_count": 39,
   "metadata": {},
   "outputs": [
    {
     "data": {
      "text/plain": [
       "'    def __init__(self, *args, **kwds):\\n        pass\\n'"
      ]
     },
     "execution_count": 39,
     "metadata": {},
     "output_type": "execute_result"
    }
   ],
   "source": [
    "getsource(Enum.__init__)"
   ]
  },
  {
   "cell_type": "code",
   "execution_count": 41,
   "metadata": {},
   "outputs": [
    {
     "name": "stdout",
     "output_type": "stream",
     "text": [
      "    def __iter__(cls):\n",
      "        \"\"\"\n",
      "        Return members in definition order.\n",
      "        \"\"\"\n",
      "        return (cls._member_map_[name] for name in cls._member_names_)\n",
      "\n"
     ]
    }
   ],
   "source": [
    "print(getsource(Enum.__iter__))"
   ]
  },
  {
   "cell_type": "code",
   "execution_count": null,
   "metadata": {},
   "outputs": [],
   "source": []
  }
 ],
 "metadata": {
  "kernelspec": {
   "display_name": "venv",
   "language": "python",
   "name": "python3"
  },
  "language_info": {
   "codemirror_mode": {
    "name": "ipython",
    "version": 3
   },
   "file_extension": ".py",
   "mimetype": "text/x-python",
   "name": "python",
   "nbconvert_exporter": "python",
   "pygments_lexer": "ipython3",
   "version": "3.12.7"
  },
  "orig_nbformat": 4
 },
 "nbformat": 4,
 "nbformat_minor": 2
}
