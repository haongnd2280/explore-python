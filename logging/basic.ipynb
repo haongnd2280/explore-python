{
 "cells": [
  {
   "cell_type": "code",
   "execution_count": 4,
   "metadata": {},
   "outputs": [],
   "source": [
    "import logging\n",
    "\n",
    "logging.basicConfig(\n",
    "    level=logging.DEBUG, \n",
    "    format=\" %(asctime)s - %(levelname)s - %(message)s\"\n",
    ")"
   ]
  },
  {
   "cell_type": "code",
   "execution_count": 9,
   "metadata": {},
   "outputs": [
    {
     "name": "stderr",
     "output_type": "stream",
     "text": [
      " 2024-09-01 13:02:05,381 - DEBUG - Start of program\n",
      " 2024-09-01 13:02:05,383 - DEBUG - Start of factorial(5)\n",
      " 2024-09-01 13:02:05,384 - DEBUG - i is 1, total is 1.\n",
      " 2024-09-01 13:02:05,386 - DEBUG - i is 2, total is 2.\n",
      " 2024-09-01 13:02:05,386 - DEBUG - i is 3, total is 6.\n",
      " 2024-09-01 13:02:05,386 - DEBUG - i is 4, total is 24.\n",
      " 2024-09-01 13:02:05,391 - DEBUG - i is 5, total is 120.\n",
      " 2024-09-01 13:02:05,393 - DEBUG - End of factorial(5)\n",
      " 2024-09-01 13:02:05,395 - DEBUG - End of program\n"
     ]
    },
    {
     "name": "stdout",
     "output_type": "stream",
     "text": [
      "120\n"
     ]
    }
   ],
   "source": [
    "logging.debug(\"Start of program\")\n",
    "\n",
    "def factorial(n):\n",
    "    logging.debug(f\"Start of factorial({n})\")\n",
    "    \n",
    "    total = 1\n",
    "    for i in range(1, n + 1):\n",
    "        total *= i\n",
    "        logging.debug(f\"i is {i}, total is {total}.\")\n",
    "    \n",
    "    logging.debug(f\"End of factorial({n})\")\n",
    "\n",
    "    return total \n",
    "\n",
    "print(factorial(5))\n",
    "logging.debug(\"End of program\")"
   ]
  },
  {
   "cell_type": "code",
   "execution_count": 2,
   "metadata": {},
   "outputs": [
    {
     "name": "stderr",
     "output_type": "stream",
     "text": [
      "WARNING:root:Watch out!\n"
     ]
    }
   ],
   "source": [
    "import logging\n",
    "\n",
    "logging.warning(\"Watch out!\")     # default level is WARNING\n",
    "logging.info(\"I told you so.\")\n",
    "logging.debug(\"An error has occurred.\")"
   ]
  },
  {
   "cell_type": "code",
   "execution_count": null,
   "metadata": {},
   "outputs": [],
   "source": []
  }
 ],
 "metadata": {
  "kernelspec": {
   "display_name": "venv_py",
   "language": "python",
   "name": "python3"
  },
  "language_info": {
   "codemirror_mode": {
    "name": "ipython",
    "version": 3
   },
   "file_extension": ".py",
   "mimetype": "text/x-python",
   "name": "python",
   "nbconvert_exporter": "python",
   "pygments_lexer": "ipython3",
   "version": "3.11.2"
  }
 },
 "nbformat": 4,
 "nbformat_minor": 2
}
