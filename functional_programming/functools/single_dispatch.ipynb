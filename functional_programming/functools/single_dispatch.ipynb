{
 "cells": [
  {
   "cell_type": "code",
   "execution_count": null,
   "metadata": {},
   "outputs": [],
   "source": [
    "# This decorator can be used to implement strict FUNCTION OVERLOADING (not supported in Python due to duck-typing principle)\n",
    "# Strict function overloading: the number of arguments is the same, the difference is in their types"
   ]
  },
  {
   "cell_type": "code",
   "execution_count": 1,
   "metadata": {},
   "outputs": [],
   "source": [
    "from functools import singledispatch    # biến đổi một hàm tành một single-dispatched generic function"
   ]
  },
  {
   "cell_type": "code",
   "execution_count": null,
   "metadata": {},
   "outputs": [
    {
     "name": "stdout",
     "output_type": "stream",
     "text": [
      "A single-dispatched generic function on first argument. Hello world\n",
      "Overloaded function for type int. 42\n",
      "Overloaded function for type list. 1, 2, 3, 4\n"
     ]
    }
   ],
   "source": [
    "@singledispatch       # dispatch xảy ra dựa vào kiểu của đối số thứ nhất \n",
    "def func(arg, verbose: bool = False) -> None:\n",
    "    \"\"\"Define a generic function.\n",
    "    NOTE: Nếu kiểu dữ liệu của đối số đầu tiên khi gọi hàm chưa có hàm overloaded thì mặc định hàm generic sẽ được gọi.\n",
    "    \"\"\"\n",
    "    if verbose:\n",
    "        print(f\"A single-dispatched generic function on first argument.\", end=\" \")\n",
    "    print(arg)\n",
    "\n",
    "# Add overloaded implementations to the above function: sử dụng thuộc tính register() của generic function\n",
    "@func.register\n",
    "def _(arg: int, verbose: bool = False) -> None:\n",
    "    if verbose:\n",
    "        print(f\"Overloaded function for type int.\", end=\" \")\n",
    "    print(arg)\n",
    "\n",
    "@func.register\n",
    "def _(arg: list, verbose: bool = False) -> None:\n",
    "    if verbose:\n",
    "        print(\"Overloaded function for type list.\", end=\" \")\n",
    "    print(*arg, sep=\", \")\n",
    "\n",
    "# When called, the generic function dispatches on the type of the first argument\n",
    "func(\"Hello world\", verbose=True)    # kiểu dữ liệu str chưa có hàm overloaded => mặc định sẽ gọi hàm generic\n",
    "func(42, verbose=True)\n",
    "func([1, 2, 3, 4], verbose=True)"
   ]
  },
  {
   "cell_type": "code",
   "execution_count": 4,
   "metadata": {},
   "outputs": [
    {
     "name": "stdout",
     "output_type": "stream",
     "text": [
      "Overloaded function for type int or float. 42\n",
      "Overloaded function for type int or float. 12.0\n",
      "Overloaded function for type list or set. 4, 5, 6\n",
      "Overloaded function for type list or set. 4, 5, 6\n"
     ]
    }
   ],
   "source": [
    "# Có thể gộp nhiều kiểu dữ liệu vào một hàm overloaded. \n",
    "@func.register\n",
    "def _(arg: int | float, verbose: bool = False) -> None:\n",
    "    if verbose:\n",
    "        print(\"Overloaded function for type int or float.\", end=\" \")\n",
    "    print(arg)\n",
    "\n",
    "from typing import Union\n",
    "@func.register\n",
    "def _(arg: Union[list, set], verbose: bool = False) -> None:\n",
    "    if verbose:\n",
    "        print(\"Overloaded function for type list or set.\", end=\" \")\n",
    "    print(*arg, sep=\", \")\n",
    "\n",
    "func(42, verbose=True)\n",
    "func(12.0, verbose=True)\n",
    "func([4, 5, 6], verbose=True)\n",
    "func({4, 5, 6}, verbose=True)"
   ]
  },
  {
   "cell_type": "code",
   "execution_count": null,
   "metadata": {},
   "outputs": [
    {
     "name": "stdout",
     "output_type": "stream",
     "text": [
      "Overloaded function for complex data type. 2.0 3.0\n",
      "Overloaded function for a list of integers. 1, 5, 7\n",
      "Overloaded function for a list of integers. foo, bar, baz\n"
     ]
    }
   ],
   "source": [
    "# Ta có thể truyền kiểu dữ liệu vào thẳng thuộc tính register() thay vì sử dụng type hint\n",
    "@func.register(complex)    # overloaded function cho kiểu dữ liệu complex\n",
    "def _(arg, verbose: bool = False) -> None:\n",
    "    if verbose:\n",
    "        print(\"Overloaded function for complex data type.\", end=\" \")\n",
    "    print(arg.real, arg.imag)\n",
    "\n",
    "# Với đối số là kiểu collection (list, tuple,...) và ta muốn typehint phần tử của collection đó (vi dụ: list[int]):\n",
    "# truyền dispatch type vào register() decorator + truyền typehint vào function definition\n",
    "@func.register(list)\n",
    "def _(arg: list[int], verbose: bool = False):     # typehint chỉ có tác dụng cho static type checker, không có tác dụng at runtime \n",
    "    if verbose:\n",
    "        print(\"Overloaded function for a list of integers.\", end=\" \")\n",
    "    print(*arg, sep=\", \")\n",
    "    \n",
    "func(2+3j, verbose=True)\n",
    "func([1, 5, 7], verbose=True)\n",
    "func([\"foo\", \"bar\", \"baz\"], verbose=True)     # vẫn gọi hàm dispatch với kiểu list[int] ở trên vì typehint chỉ dành cho static type cheker thôi "
   ]
  },
  {
   "cell_type": "code",
   "execution_count": 10,
   "metadata": {},
   "outputs": [
    {
     "name": "stdout",
     "output_type": "stream",
     "text": [
      "Overloaded function for None type. Nothing\n"
     ]
    }
   ],
   "source": [
    "# Register các hàm đã được định nghĩa trước đó / hàm lambda: sử dụng register() ở dạng hàm\n",
    "def nothing(arg, verbose: bool = False) -> None:\n",
    "    \"\"\"A pre-existing function.\n",
    "    \"\"\"\n",
    "    if verbose:\n",
    "        print(\"Overloaded function for None type.\", end=\" \")\n",
    "    print(\"Nothing\")\n",
    "\n",
    "func.register(type(None), nothing)   # overload hàm nothing với kiểu None\n",
    "\n",
    "func(None, verbose=True)"
   ]
  },
  {
   "cell_type": "code",
   "execution_count": null,
   "metadata": {},
   "outputs": [
    {
     "name": "stdout",
     "output_type": "stream",
     "text": [
      "Processing an integer: 10.\n",
      "Processing an integer: 10.\n"
     ]
    }
   ],
   "source": [
    "# @register() decorator trả về undecorated function, tức nó không làm thay đổi / wrap hàm ban đầu được register. \n",
    "# Nó chỉ đơn giản register hàm đó làm handler cho kiểu dữ liệu được chỉ định và trả về hàm ban đầu (undecorated)\n",
    "\n",
    "# Điều này cũng dễ hiểu, tại vì có thể có nhiều hơn một hàm overloaded, mà chỉ có một hàm generic thì ghi đè làm sao được nhiều hàm vào\n",
    "# một hàm generic duy nhất.\n",
    "\n",
    "@singledispatch\n",
    "def process(value):\n",
    "    return f\"Default handler for {value}.\"\n",
    "\n",
    "# Using @register to add a type-specific handler for int\n",
    "@process.register(int)\n",
    "def _(value):\n",
    "    return f\"Processing an integer: {value}.\"\n",
    "\n",
    "# @register does not modify the registered function\n",
    "assert process.registry[int] is _     # The registered function is the same as the original (undecorated) one \n",
    "print(_(10))\n",
    "print(process(10))\n",
    "\n",
    "# Ứng dụng: decorator stacking, pickling, unit test"
   ]
  },
  {
   "cell_type": "code",
   "execution_count": null,
   "metadata": {},
   "outputs": [
    {
     "data": {
      "text/plain": [
       "False"
      ]
     },
     "execution_count": 17,
     "metadata": {},
     "output_type": "execute_result"
    }
   ],
   "source": [
    "from decimal import Decimal\n",
    "\n",
    "@func.register(float)\n",
    "@func.register(Decimal)\n",
    "def func_number(arg, verbose: bool = False) -> None:\n",
    "    if verbose:\n",
    "        print(\"Overloaded function for float or Decimal.\", end=\" \")\n",
    "    print(arg)\n",
    "\n",
    "func_number is func       # False vì decorator không wrap hàm undecorated"
   ]
  },
  {
   "cell_type": "code",
   "execution_count": 21,
   "metadata": {},
   "outputs": [
    {
     "name": "stdout",
     "output_type": "stream",
     "text": [
      "Overloaded function for the abc type Mapping. a: b\n"
     ]
    }
   ],
   "source": [
    "# Overloaded with abc\n",
    "from collections.abc import Mapping\n",
    "@func.register\n",
    "def _(arg: Mapping, verbose: bool = False) -> None:\n",
    "    if verbose:\n",
    "        print(\"Overloaded function for the abc type Mapping.\", end=\" \")\n",
    "    for key, value in arg.items():\n",
    "        print(key, value, sep=\": \")\n",
    "\n",
    "func({\"a\": \"b\"}, verbose=True)"
   ]
  },
  {
   "cell_type": "code",
   "execution_count": null,
   "metadata": {},
   "outputs": [
    {
     "name": "stdout",
     "output_type": "stream",
     "text": [
      "<function func_number at 0x00000198C1D37F60>\n",
      "@func.register(float)\n",
      "@func.register(Decimal)\n",
      "def func_number(arg, verbose: bool = False) -> None:\n",
      "    if verbose:\n",
      "        print(\"Overloaded function for float or Decimal.\", end=\" \")\n",
      "    print(arg)\n",
      "\n",
      "<function _ at 0x00000198C1D9CF40>\n",
      "@func.register\n",
      "def _(arg: Mapping, verbose: bool = False) -> None:\n",
      "    if verbose:\n",
      "        print(\"Overloaded function for the abc type Mapping.\", end=\" \")\n",
      "    for key, value in arg.items():\n",
      "        print(key, value, sep=\": \")\n",
      "\n"
     ]
    }
   ],
   "source": [
    "# Kiểm tra overloaded function mà hàm generic sẽ chọn cho một kiểu dữ liệu cụ thể: sử dụng dispatch() attribute của generic function\n",
    "\n",
    "from inspect import getsource\n",
    "\n",
    "print(func.dispatch(float))              # trả về hàm được register cho kiểu float \n",
    "print(getsource(func.dispatch(float)))   # lấy source code của hàm register cho kiểu float\n",
    "\n",
    "print(func.dispatch(dict)) \n",
    "print(getsource(func.dispatch(dict)))"
   ]
  },
  {
   "cell_type": "code",
   "execution_count": 29,
   "metadata": {},
   "outputs": [
    {
     "data": {
      "text/plain": [
       "mappingproxy({object: <function __main__.func(arg, verbose: bool = False) -> None>,\n",
       "              int: <function __main__._(arg: int, verbose: bool = False) -> None>,\n",
       "              list: <function __main__._(arg: list[int], verbose: bool = False)>,\n",
       "              complex: <function __main__._(arg, verbose: bool = False) -> None>,\n",
       "              NoneType: <function __main__.nothing(arg, verbose: bool = False) -> None>,\n",
       "              decimal.Decimal: <function __main__.func_number(arg, verbose: bool = False) -> None>,\n",
       "              float: <function __main__.func_number(arg, verbose: bool = False) -> None>,\n",
       "              bool: <function __main__._(arg, verbose: bool = False) -> None>,\n",
       "              collections.abc.Mapping: <function __main__._(arg: collections.abc.Mapping, verbose: bool = False) -> None>})"
      ]
     },
     "execution_count": 29,
     "metadata": {},
     "output_type": "execute_result"
    }
   ],
   "source": [
    "# Access all registered implementations (overloaded functions), use read-only `registry` attribute\n",
    "func.registry"
   ]
  },
  {
   "cell_type": "code",
   "execution_count": 32,
   "metadata": {},
   "outputs": [
    {
     "data": {
      "text/plain": [
       "dict_keys([<class 'object'>, <class 'int'>, <class 'list'>, <class 'complex'>, <class 'NoneType'>, <class 'decimal.Decimal'>, <class 'float'>, <class 'bool'>, <class 'collections.abc.Mapping'>])"
      ]
     },
     "execution_count": 32,
     "metadata": {},
     "output_type": "execute_result"
    }
   ],
   "source": [
    "func.registry.keys()"
   ]
  },
  {
   "cell_type": "code",
   "execution_count": 33,
   "metadata": {},
   "outputs": [
    {
     "data": {
      "text/plain": [
       "dict_values([<function func at 0x00000198C14C5F80>, <function _ at 0x00000198C14C6020>, <function _ at 0x00000198C1CA8400>, <function _ at 0x00000198C1CA8040>, <function nothing at 0x00000198C14C7880>, <function func_number at 0x00000198C1D37F60>, <function func_number at 0x00000198C1D37F60>, <function _ at 0x00000198C1D9F100>, <function _ at 0x00000198C1D9CF40>])"
      ]
     },
     "execution_count": 33,
     "metadata": {},
     "output_type": "execute_result"
    }
   ],
   "source": [
    "func.registry.values()"
   ]
  },
  {
   "cell_type": "code",
   "execution_count": null,
   "metadata": {},
   "outputs": [
    {
     "name": "stdout",
     "output_type": "stream",
     "text": [
      "<function func_number at 0x00000198C1D37F60>\n",
      "<function _ at 0x00000198C14C6020>\n",
      "<function _ at 0x00000198C1CA8400>\n",
      "<function func at 0x00000198C14C5F80>\n"
     ]
    }
   ],
   "source": [
    "print(func.registry[float])\n",
    "print(func.registry[int])\n",
    "print(func.registry[list])\n",
    "print(func.registry[object])      # generic function"
   ]
  },
  {
   "cell_type": "code",
   "execution_count": null,
   "metadata": {},
   "outputs": [],
   "source": []
  }
 ],
 "metadata": {
  "kernelspec": {
   "display_name": "venv_py",
   "language": "python",
   "name": "python3"
  },
  "language_info": {
   "codemirror_mode": {
    "name": "ipython",
    "version": 3
   },
   "file_extension": ".py",
   "mimetype": "text/x-python",
   "name": "python",
   "nbconvert_exporter": "python",
   "pygments_lexer": "ipython3",
   "version": "3.11.2"
  }
 },
 "nbformat": 4,
 "nbformat_minor": 2
}
