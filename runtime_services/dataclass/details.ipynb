{
 "cells": [
  {
   "cell_type": "code",
   "execution_count": 1,
   "metadata": {},
   "outputs": [],
   "source": [
    "from dataclasses import (\n",
    "    dataclass,\n",
    "    field,\n",
    ")"
   ]
  },
  {
   "cell_type": "markdown",
   "metadata": {},
   "source": [
    "# field"
   ]
  },
  {
   "cell_type": "code",
   "execution_count": 3,
   "metadata": {},
   "outputs": [
    {
     "name": "stdout",
     "output_type": "stream",
     "text": [
      "[]\n",
      "[1, 2, 3]\n",
      "[4, 5, 6]\n",
      "Not a list\n"
     ]
    }
   ],
   "source": [
    "@dataclass\n",
    "class C:\n",
    "    a: int         # 'a' has no default value\n",
    "    b: int = 0     # 'b' has a default value of 0\n",
    "    my_list: list[int] = field(default_factory=list)\n",
    "\n",
    "c = C(a=10)\n",
    "print(c.my_list)   # an empty list by default\n",
    "\n",
    "c.my_list += [1, 2, 3]\n",
    "print(c.my_list)\n",
    "\n",
    "c.my_list = [4, 5, 6]\n",
    "print(c.my_list)\n",
    "\n",
    "c.my_list = \"Not a list\"\n",
    "print(c.my_list)"
   ]
  },
  {
   "cell_type": "code",
   "execution_count": null,
   "metadata": {},
   "outputs": [
    {
     "name": "stdout",
     "output_type": "stream",
     "text": [
      "2024-11-16T23:43:43.236885\n",
      "2024-11-16T23:43:43.237928\n"
     ]
    }
   ],
   "source": [
    "from datetime import datetime\n",
    "\n",
    "def sample_factory():\n",
    "    return datetime.now().isoformat()\n",
    "\n",
    "@dataclass \n",
    "class Foo:\n",
    "    a: int = 1\n",
    "    b: str = field(default_factory=sample_factory)   # for mutable default value\n",
    "\n",
    "foo = Foo()\n",
    "bar = Foo()\n",
    "\n",
    "print(foo.b)\n",
    "print(bar.b)"
   ]
  },
  {
   "cell_type": "code",
   "execution_count": null,
   "metadata": {},
   "outputs": [
    {
     "name": "stdout",
     "output_type": "stream",
     "text": [
      "10, 20\n",
      "C(x=1, t=20)\n"
     ]
    }
   ],
   "source": [
    "@dataclass\n",
    "class C:\n",
    "    x: int\n",
    "    y: int = field(repr=False)\n",
    "    z: int = field(repr=False, default=10)\n",
    "    t: int = 20\n",
    "\n",
    "print(C.z, C.t, sep=\", \")   # these are class variables\n",
    "# print(C.x, C.y)           # these are not class variables  => raise AttributeError\n",
    "\n",
    "c = C(x=1, y=2)   \n",
    "print(c)   # y and z is hidden because repr=False"
   ]
  },
  {
   "cell_type": "markdown",
   "metadata": {},
   "source": [
    "# Field"
   ]
  },
  {
   "cell_type": "markdown",
   "metadata": {},
   "source": [
    "- Field objects dùng để mô tả từng trường (field) được được định nghĩa trong dataclass.\n",
    "=> Nói cách khác, mỗi field được định nghĩa tương ứng với một Field object\n",
    "- Object này được tạo internally và được trả về bởi fields() method => không nên khởi tạo Field một cách trực tiếp."
   ]
  },
  {
   "cell_type": "markdown",
   "metadata": {},
   "source": [
    "# fields"
   ]
  },
  {
   "cell_type": "code",
   "execution_count": 13,
   "metadata": {},
   "outputs": [
    {
     "name": "stdout",
     "output_type": "stream",
     "text": [
      "Field(name='a',type=<class 'int'>,default=1,default_factory=<dataclasses._MISSING_TYPE object at 0x000001B705132E10>,init=True,repr=True,hash=None,compare=True,metadata=mappingproxy({}),kw_only=False,_field_type=_FIELD)\n",
      "Field(name='b',type=<class 'int'>,default=2,default_factory=<dataclasses._MISSING_TYPE object at 0x000001B705132E10>,init=True,repr=True,hash=None,compare=True,metadata=mappingproxy({}),kw_only=False,_field_type=_FIELD)\n",
      "Field(name='c',type=<class 'float'>,default=3.14,default_factory=<dataclasses._MISSING_TYPE object at 0x000001B705132E10>,init=True,repr=True,hash=None,compare=True,metadata=mappingproxy({}),kw_only=False,_field_type=_FIELD)\n",
      "(Field(name='a',type=<class 'int'>,default=1,default_factory=<dataclasses._MISSING_TYPE object at 0x000001B705132E10>,init=True,repr=True,hash=None,compare=True,metadata=mappingproxy({}),kw_only=False,_field_type=_FIELD), Field(name='b',type=<class 'int'>,default=2,default_factory=<dataclasses._MISSING_TYPE object at 0x000001B705132E10>,init=True,repr=True,hash=None,compare=True,metadata=mappingproxy({}),kw_only=False,_field_type=_FIELD), Field(name='c',type=<class 'float'>,default=3.14,default_factory=<dataclasses._MISSING_TYPE object at 0x000001B705132E10>,init=True,repr=True,hash=None,compare=True,metadata=mappingproxy({}),kw_only=False,_field_type=_FIELD))\n"
     ]
    }
   ],
   "source": [
    "# Trả về tuple gồm các Field objects được định nghĩa trong dataclass\n",
    "from dataclasses import fields\n",
    "\n",
    "@dataclass\n",
    "class Spam:\n",
    "    a: int = 1\n",
    "    b: int = 2\n",
    "    c: float = 3.14\n",
    "\n",
    "print(*fields(Spam), sep=\"\\n\")\n",
    "\n",
    "spam = Spam()\n",
    "print(fields(spam))"
   ]
  },
  {
   "cell_type": "markdown",
   "metadata": {},
   "source": [
    "# asdict"
   ]
  },
  {
   "cell_type": "code",
   "execution_count": 18,
   "metadata": {},
   "outputs": [],
   "source": [
    "# Convert a dataclass to a dict (convert all of its fields to name: value pairs)\n",
    "from dataclasses import asdict, fields\n",
    "\n",
    "@dataclass\n",
    "class Point:\n",
    "    x: int\n",
    "    y: int\n",
    "\n",
    "@dataclass     # a nested dataclass\n",
    "class C:\n",
    "    my_list: list[Point]\n",
    "\n",
    "\n",
    "p = Point(10, 20)\n",
    "assert asdict(p) == {\"x\": 10, \"y\": 20}\n",
    "\n",
    "c = C([Point(0, 0), Point(10, 20)])\n",
    "assert asdict(c) == {\n",
    "    \"my_list\": [\n",
    "        {\"x\": 0, \"y\": 0},\n",
    "        {\"x\": 10, \"y\": 20}\n",
    "    ]\n",
    "}"
   ]
  },
  {
   "cell_type": "code",
   "execution_count": null,
   "metadata": {},
   "outputs": [
    {
     "name": "stdout",
     "output_type": "stream",
     "text": [
      "{'x': 50, 'y': 20}\n",
      "{'x': 50, 'y': 20}\n",
      "50\n"
     ]
    }
   ],
   "source": [
    "# Create a shallow copy \n",
    "shallow_p = {field.name: getattr(p, field.name) for field in fields(p)}\n",
    "print(shallow_p)\n",
    "\n",
    "p.x = 50\n",
    "print(shallow_p)      # dict is not changed\n",
    "\n",
    "shallow_p[\"x\"] = 50   # this changes the attribute x of dataclass p\n",
    "print(p.x)"
   ]
  },
  {
   "cell_type": "markdown",
   "metadata": {},
   "source": [
    "# astuple"
   ]
  },
  {
   "cell_type": "code",
   "execution_count": 28,
   "metadata": {},
   "outputs": [
    {
     "data": {
      "text/plain": [
       "(50, 20)"
      ]
     },
     "execution_count": 28,
     "metadata": {},
     "output_type": "execute_result"
    }
   ],
   "source": [
    "# Convert a dataclass to a tuple (of its field values)\n",
    "from dataclasses import astuple\n",
    "\n",
    "assert astuple(p) == (50, 20)\n",
    "assert astuple(c) == ([(0, 0), (10, 20)],)    # a tuple appears first by default \n",
    "\n",
    "# To create a shallow copy \n",
    "tuple(\n",
    "    getattr(p, field.name) for field in fields(p)\n",
    ")"
   ]
  },
  {
   "cell_type": "code",
   "execution_count": 32,
   "metadata": {},
   "outputs": [
    {
     "name": "stdout",
     "output_type": "stream",
     "text": [
      "x - <class 'int'> - <dataclasses._MISSING_TYPE object at 0x000002732C942BD0> - <dataclasses._MISSING_TYPE object at 0x000002732C942BD0>\n",
      "y - <class 'int'> - <dataclasses._MISSING_TYPE object at 0x000002732C942BD0> - <dataclasses._MISSING_TYPE object at 0x000002732C942BD0>\n"
     ]
    }
   ],
   "source": [
    "fields(p)\n",
    "for field in fields(p):\n",
    "    print(field.name, field.type, field.default, field.default_factory, sep=\" - \")"
   ]
  },
  {
   "cell_type": "markdown",
   "metadata": {},
   "source": [
    "# replace"
   ]
  },
  {
   "cell_type": "code",
   "execution_count": 24,
   "metadata": {},
   "outputs": [
    {
     "name": "stdout",
     "output_type": "stream",
     "text": [
      "a: 1, b: 2, c: 3\n",
      "a: 50, b: 10, c: 20\n"
     ]
    }
   ],
   "source": [
    "from dataclasses import replace\n",
    "\n",
    "@dataclass\n",
    "class Foo:\n",
    "    a: int = 1\n",
    "    b: int = 2\n",
    "    c: int = 3\n",
    "\n",
    "foo = Foo()\n",
    "print(*[f\"{field.name}: {getattr(foo, field.name)}\" for field in fields(foo)], sep=\", \")\n",
    "\n",
    "new_foo = replace(foo, a=50, b=10, c=20)   # create a new dataclass instance from an existing dataclass instance with field values changed\n",
    "print(*[f\"{field.name}: {getattr(new_foo, field.name)}\" for field in fields(new_foo)], sep=\", \")"
   ]
  },
  {
   "cell_type": "markdown",
   "metadata": {},
   "source": [
    "# is_dataclass"
   ]
  },
  {
   "cell_type": "code",
   "execution_count": null,
   "metadata": {},
   "outputs": [
    {
     "name": "stdout",
     "output_type": "stream",
     "text": [
      "True\n",
      "True\n",
      "True\n",
      "True\n"
     ]
    }
   ],
   "source": [
    "# Kiểm tra xem một object có phải là một dataclass / dataclass instance hay không \n",
    "from dataclasses import is_dataclass\n",
    "\n",
    "@dataclass\n",
    "class Sample:\n",
    "    name: str = \"a dataclass\"\n",
    "\n",
    "@dataclass\n",
    "class Foo:\n",
    "    a: int = 1\n",
    "    b: int = 2\n",
    "    c = Sample\n",
    "    d = Sample()\n",
    "\n",
    "print(is_dataclass(Foo))      # dataclass object \n",
    "print(is_dataclass(Foo()))    # dataclass instance \n",
    "print(is_dataclass(Foo().c))  # a field that is a dataclass object\n",
    "print(is_dataclass(Foo().d))  # a field that is a dataclass instance"
   ]
  },
  {
   "cell_type": "code",
   "execution_count": 29,
   "metadata": {},
   "outputs": [
    {
     "name": "stdout",
     "output_type": "stream",
     "text": [
      "False\n",
      "True\n"
     ]
    }
   ],
   "source": [
    "def is_dataclass_instance(obj):\n",
    "    \"\"\"Check if an object is a dataclass instance or not.\n",
    "    \"\"\"\n",
    "\n",
    "    return is_dataclass(obj) and not isinstance(obj, type)\n",
    "\n",
    "print(is_dataclass_instance(Foo))\n",
    "print(is_dataclass_instance(Foo()))"
   ]
  },
  {
   "cell_type": "code",
   "execution_count": null,
   "metadata": {},
   "outputs": [
    {
     "name": "stdout",
     "output_type": "stream",
     "text": [
      "False\n",
      "True\n",
      "<class 'type'>\n"
     ]
    }
   ],
   "source": [
    "print(isinstance(Foo(), type))\n",
    "print(isinstance(Foo, type))\n",
    "\n",
    "print(type(Foo))    # Foo is an instance of type"
   ]
  },
  {
   "cell_type": "markdown",
   "metadata": {},
   "source": [
    "# Sentinel value"
   ]
  },
  {
   "cell_type": "code",
   "execution_count": null,
   "metadata": {},
   "outputs": [
    {
     "data": {
      "text/plain": [
       "(Field(name='required',type=<class 'int'>,default=<dataclasses._MISSING_TYPE object at 0x000001D3F94D2BD0>,default_factory=<dataclasses._MISSING_TYPE object at 0x000001D3F94D2BD0>,init=True,repr=True,hash=None,compare=True,metadata=mappingproxy({}),kw_only=False,_field_type=_FIELD),\n",
       " Field(name='no_default',type=<class 'int'>,default=<dataclasses._MISSING_TYPE object at 0x000001D3F94D2BD0>,default_factory=<dataclasses._MISSING_TYPE object at 0x000001D3F94D2BD0>,init=True,repr=True,hash=None,compare=True,metadata=mappingproxy({}),kw_only=False,_field_type=_FIELD),\n",
       " Field(name='optional',type=<class 'int'>,default=42,default_factory=<dataclasses._MISSING_TYPE object at 0x000001D3F94D2BD0>,init=True,repr=True,hash=None,compare=True,metadata=mappingproxy({}),kw_only=False,_field_type=_FIELD))"
      ]
     },
     "execution_count": 9,
     "metadata": {},
     "output_type": "execute_result"
    }
   ],
   "source": [
    "# Often used to distinguish between \"No value provided\" and None value\n",
    "from dataclasses import dataclass, field, fields, MISSING\n",
    "\n",
    "@dataclass\n",
    "class Example:\n",
    "    required: int\n",
    "    no_default: int = field(default=MISSING)  # # MISSING is used to indicate a field that has no default value => must provide a value explicitly\n",
    "    optional: int = field(default=42)\n",
    "\n",
    "fields(Example)"
   ]
  },
  {
   "cell_type": "code",
   "execution_count": 16,
   "metadata": {},
   "outputs": [
    {
     "data": {
      "text/plain": [
       "(Field(name='x',type=<class 'float'>,default=<dataclasses._MISSING_TYPE object at 0x000001D3F94D2BD0>,default_factory=<dataclasses._MISSING_TYPE object at 0x000001D3F94D2BD0>,init=True,repr=True,hash=None,compare=True,metadata=mappingproxy({}),kw_only=False,_field_type=_FIELD),\n",
       " Field(name='y',type=<class 'float'>,default=<dataclasses._MISSING_TYPE object at 0x000001D3F94D2BD0>,default_factory=<dataclasses._MISSING_TYPE object at 0x000001D3F94D2BD0>,init=True,repr=True,hash=None,compare=True,metadata=mappingproxy({}),kw_only=True,_field_type=_FIELD),\n",
       " Field(name='z',type=<class 'float'>,default=<dataclasses._MISSING_TYPE object at 0x000001D3F94D2BD0>,default_factory=<dataclasses._MISSING_TYPE object at 0x000001D3F94D2BD0>,init=True,repr=True,hash=None,compare=True,metadata=mappingproxy({}),kw_only=True,_field_type=_FIELD))"
      ]
     },
     "execution_count": 16,
     "metadata": {},
     "output_type": "execute_result"
    }
   ],
   "source": [
    "# KW_ONLY: giá trị sentinel được sử dụng là một type annotation\n",
    "from dataclasses import KW_ONLY\n",
    "@dataclass\n",
    "class Point:\n",
    "    x: float\n",
    "    _: KW_ONLY   # pseudo field (of type KW_ONLY); completely ignored; the name of _ is just a convention\n",
    "    y: float     # keyword-only field\n",
    "    z: float     # keyword-only field\n",
    "\n",
    "p = Point(0, y=1.5, z=2.0)\n",
    "# p = Point(0, 1.5, 2.0)     # TypeError\n",
    "fields(Point)    # this does not list the pseudo-field _"
   ]
  },
  {
   "cell_type": "code",
   "execution_count": null,
   "metadata": {},
   "outputs": [
    {
     "name": "stdout",
     "output_type": "stream",
     "text": [
      "3.0\n"
     ]
    }
   ],
   "source": [
    "# Post-init processing\n",
    "# __post_init__(): sẽ được gọi tự động bởi __init__() của dataclass\n",
    "# Nếu __init__() không được gọi thì __post_init__() cũng sẽ không được gọi\n",
    "# Mục đích: thường dùng để khởi tạo field values mà phụ thuộc vào các fields khác\n",
    "from dataclasses import dataclass, field\n",
    "\n",
    "@dataclass\n",
    "class C:\n",
    "    a: float\n",
    "    b: float\n",
    "    c: float = field(init=False)   # không khởi tạo lúc gọi __init__() => không cần truyền đối số lúc tạo class instance\n",
    "\n",
    "    def __post_init__(self):\n",
    "        self.c = self.a + self.b\n",
    "\n",
    "c = C(a=1.0, b=2.0)\n",
    "print(c.c)\n",
    "\n",
    "# c = C(a=1.0, b=2.0, c=3.0)   # TypeError: unexpected argument"
   ]
  },
  {
   "cell_type": "code",
   "execution_count": null,
   "metadata": {},
   "outputs": [
    {
     "name": "stdout",
     "output_type": "stream",
     "text": [
      "(Field(name='side',type=<class 'float'>,default=<dataclasses._MISSING_TYPE object at 0x000001D3F94D2BD0>,default_factory=<dataclasses._MISSING_TYPE object at 0x000001D3F94D2BD0>,init=True,repr=True,hash=None,compare=True,metadata=mappingproxy({}),kw_only=False,_field_type=_FIELD),)\n",
      "4\n",
      "4\n"
     ]
    }
   ],
   "source": [
    "# Inheritance with dataclass\n",
    "\n",
    "class Rectangle:\n",
    "    def __init__(self, height, width):\n",
    "        self.height = height\n",
    "        self.width = width\n",
    "\n",
    "@dataclass\n",
    "class Square(Rectangle):\n",
    "    side: float\n",
    "\n",
    "    def __post_init__(self):\n",
    "        super().__init__(self.side, self.side)\n",
    "\n",
    "square = Square(side=4)\n",
    "print(fields(square))\n",
    "print(square.width)\n",
    "print(square.height)"
   ]
  },
  {
   "cell_type": "code",
   "execution_count": 26,
   "metadata": {},
   "outputs": [],
   "source": [
    "# Class variables & Init-only variables"
   ]
  },
  {
   "cell_type": "code",
   "execution_count": null,
   "metadata": {},
   "outputs": [],
   "source": []
  },
  {
   "cell_type": "code",
   "execution_count": null,
   "metadata": {},
   "outputs": [],
   "source": []
  },
  {
   "cell_type": "code",
   "execution_count": null,
   "metadata": {},
   "outputs": [],
   "source": []
  }
 ],
 "metadata": {
  "kernelspec": {
   "display_name": "venv_py",
   "language": "python",
   "name": "python3"
  },
  "language_info": {
   "codemirror_mode": {
    "name": "ipython",
    "version": 3
   },
   "file_extension": ".py",
   "mimetype": "text/x-python",
   "name": "python",
   "nbconvert_exporter": "python",
   "pygments_lexer": "ipython3",
   "version": "3.11.2"
  }
 },
 "nbformat": 4,
 "nbformat_minor": 2
}
